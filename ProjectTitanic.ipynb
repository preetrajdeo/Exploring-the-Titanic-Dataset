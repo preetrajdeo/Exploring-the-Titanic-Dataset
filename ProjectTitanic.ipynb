{
 "cells": [
  {
   "cell_type": "markdown",
   "metadata": {},
   "source": [
    "# Question \n",
    "\n",
    "### Through this project I am trying to see which factors made people more likely to survive. To do this, I start off by exploring the data from a variety of angles and try to get a sense of what the data is telling me. I make tentative conclusions on which variable could have the potential to determine survival. I also perform certain statistical tests to confirm or reject certain hypothesis that I had in mind.\n",
    "\n",
    "# Importing Data\n",
    "### I first load the dataframe into the iPython notebook by using the pandas library. \n"
   ]
  },
  {
   "cell_type": "code",
   "execution_count": 179,
   "metadata": {
    "collapsed": false
   },
   "outputs": [
    {
     "data": {
      "text/html": [
       "<div>\n",
       "<table border=\"1\" class=\"dataframe\">\n",
       "  <thead>\n",
       "    <tr style=\"text-align: right;\">\n",
       "      <th></th>\n",
       "      <th>PassengerId</th>\n",
       "      <th>Survived</th>\n",
       "      <th>Pclass</th>\n",
       "      <th>Name</th>\n",
       "      <th>Sex</th>\n",
       "      <th>Age</th>\n",
       "      <th>SibSp</th>\n",
       "      <th>Parch</th>\n",
       "      <th>Ticket</th>\n",
       "      <th>Fare</th>\n",
       "      <th>Cabin</th>\n",
       "      <th>Embarked</th>\n",
       "    </tr>\n",
       "  </thead>\n",
       "  <tbody>\n",
       "    <tr>\n",
       "      <th>0</th>\n",
       "      <td>1</td>\n",
       "      <td>0</td>\n",
       "      <td>3</td>\n",
       "      <td>Braund, Mr. Owen Harris</td>\n",
       "      <td>male</td>\n",
       "      <td>22</td>\n",
       "      <td>1</td>\n",
       "      <td>0</td>\n",
       "      <td>A/5 21171</td>\n",
       "      <td>7.2500</td>\n",
       "      <td>NaN</td>\n",
       "      <td>S</td>\n",
       "    </tr>\n",
       "    <tr>\n",
       "      <th>1</th>\n",
       "      <td>2</td>\n",
       "      <td>1</td>\n",
       "      <td>1</td>\n",
       "      <td>Cumings, Mrs. John Bradley (Florence Briggs Th...</td>\n",
       "      <td>female</td>\n",
       "      <td>38</td>\n",
       "      <td>1</td>\n",
       "      <td>0</td>\n",
       "      <td>PC 17599</td>\n",
       "      <td>71.2833</td>\n",
       "      <td>C85</td>\n",
       "      <td>C</td>\n",
       "    </tr>\n",
       "    <tr>\n",
       "      <th>2</th>\n",
       "      <td>3</td>\n",
       "      <td>1</td>\n",
       "      <td>3</td>\n",
       "      <td>Heikkinen, Miss. Laina</td>\n",
       "      <td>female</td>\n",
       "      <td>26</td>\n",
       "      <td>0</td>\n",
       "      <td>0</td>\n",
       "      <td>STON/O2. 3101282</td>\n",
       "      <td>7.9250</td>\n",
       "      <td>NaN</td>\n",
       "      <td>S</td>\n",
       "    </tr>\n",
       "    <tr>\n",
       "      <th>3</th>\n",
       "      <td>4</td>\n",
       "      <td>1</td>\n",
       "      <td>1</td>\n",
       "      <td>Futrelle, Mrs. Jacques Heath (Lily May Peel)</td>\n",
       "      <td>female</td>\n",
       "      <td>35</td>\n",
       "      <td>1</td>\n",
       "      <td>0</td>\n",
       "      <td>113803</td>\n",
       "      <td>53.1000</td>\n",
       "      <td>C123</td>\n",
       "      <td>S</td>\n",
       "    </tr>\n",
       "    <tr>\n",
       "      <th>4</th>\n",
       "      <td>5</td>\n",
       "      <td>0</td>\n",
       "      <td>3</td>\n",
       "      <td>Allen, Mr. William Henry</td>\n",
       "      <td>male</td>\n",
       "      <td>35</td>\n",
       "      <td>0</td>\n",
       "      <td>0</td>\n",
       "      <td>373450</td>\n",
       "      <td>8.0500</td>\n",
       "      <td>NaN</td>\n",
       "      <td>S</td>\n",
       "    </tr>\n",
       "  </tbody>\n",
       "</table>\n",
       "</div>"
      ],
      "text/plain": [
       "   PassengerId  Survived  Pclass  \\\n",
       "0            1         0       3   \n",
       "1            2         1       1   \n",
       "2            3         1       3   \n",
       "3            4         1       1   \n",
       "4            5         0       3   \n",
       "\n",
       "                                                Name     Sex  Age  SibSp  \\\n",
       "0                            Braund, Mr. Owen Harris    male   22      1   \n",
       "1  Cumings, Mrs. John Bradley (Florence Briggs Th...  female   38      1   \n",
       "2                             Heikkinen, Miss. Laina  female   26      0   \n",
       "3       Futrelle, Mrs. Jacques Heath (Lily May Peel)  female   35      1   \n",
       "4                           Allen, Mr. William Henry    male   35      0   \n",
       "\n",
       "   Parch            Ticket     Fare Cabin Embarked  \n",
       "0      0         A/5 21171   7.2500   NaN        S  \n",
       "1      0          PC 17599  71.2833   C85        C  \n",
       "2      0  STON/O2. 3101282   7.9250   NaN        S  \n",
       "3      0            113803  53.1000  C123        S  \n",
       "4      0            373450   8.0500   NaN        S  "
      ]
     },
     "execution_count": 179,
     "metadata": {},
     "output_type": "execute_result"
    }
   ],
   "source": [
    "import numpy as np\n",
    "import pandas as pd\n",
    "import scipy.stats as sp\n",
    "\n",
    "data=pd.read_csv('titanic_data.csv', sep=',')\n",
    "data.head()"
   ]
  },
  {
   "cell_type": "markdown",
   "metadata": {},
   "source": [
    "# Cleaning the data\n",
    "\n",
    "### Now I want to explore the variables that are not numerical in nature such as Pclass and embarked. \n",
    "### The first step towards this would be to clean up the dataframe and replace any textual data that I have with numbers so that it is easy to perform statistical operations on it or plot it later if I want to.\n",
    "### Hence, I replace all the females in the sex column with 1 and all the males with 0\n",
    "### I perform a similar operation on the Embark column:\n",
    "### I replace S with 1, C with 2 and Q with 3.\n",
    "### I also remove unnecessary columns such as Name, Cabin and Ticket. This is in no way going to be a potential variable to predict survival.\n",
    "\n",
    "\n"
   ]
  },
  {
   "cell_type": "code",
   "execution_count": 180,
   "metadata": {
    "collapsed": false
   },
   "outputs": [
    {
     "data": {
      "text/html": [
       "<div>\n",
       "<table border=\"1\" class=\"dataframe\">\n",
       "  <thead>\n",
       "    <tr style=\"text-align: right;\">\n",
       "      <th></th>\n",
       "      <th>PassengerId</th>\n",
       "      <th>Survived</th>\n",
       "      <th>Pclass</th>\n",
       "      <th>Sex</th>\n",
       "      <th>Age</th>\n",
       "      <th>SibSp</th>\n",
       "      <th>Parch</th>\n",
       "      <th>Fare</th>\n",
       "      <th>Embarked</th>\n",
       "    </tr>\n",
       "  </thead>\n",
       "  <tbody>\n",
       "    <tr>\n",
       "      <th>0</th>\n",
       "      <td>1</td>\n",
       "      <td>0</td>\n",
       "      <td>3</td>\n",
       "      <td>0</td>\n",
       "      <td>22</td>\n",
       "      <td>1</td>\n",
       "      <td>0</td>\n",
       "      <td>7.2500</td>\n",
       "      <td>1</td>\n",
       "    </tr>\n",
       "    <tr>\n",
       "      <th>1</th>\n",
       "      <td>2</td>\n",
       "      <td>1</td>\n",
       "      <td>1</td>\n",
       "      <td>1</td>\n",
       "      <td>38</td>\n",
       "      <td>1</td>\n",
       "      <td>0</td>\n",
       "      <td>71.2833</td>\n",
       "      <td>2</td>\n",
       "    </tr>\n",
       "    <tr>\n",
       "      <th>2</th>\n",
       "      <td>3</td>\n",
       "      <td>1</td>\n",
       "      <td>3</td>\n",
       "      <td>1</td>\n",
       "      <td>26</td>\n",
       "      <td>0</td>\n",
       "      <td>0</td>\n",
       "      <td>7.9250</td>\n",
       "      <td>1</td>\n",
       "    </tr>\n",
       "    <tr>\n",
       "      <th>3</th>\n",
       "      <td>4</td>\n",
       "      <td>1</td>\n",
       "      <td>1</td>\n",
       "      <td>1</td>\n",
       "      <td>35</td>\n",
       "      <td>1</td>\n",
       "      <td>0</td>\n",
       "      <td>53.1000</td>\n",
       "      <td>1</td>\n",
       "    </tr>\n",
       "    <tr>\n",
       "      <th>4</th>\n",
       "      <td>5</td>\n",
       "      <td>0</td>\n",
       "      <td>3</td>\n",
       "      <td>0</td>\n",
       "      <td>35</td>\n",
       "      <td>0</td>\n",
       "      <td>0</td>\n",
       "      <td>8.0500</td>\n",
       "      <td>1</td>\n",
       "    </tr>\n",
       "  </tbody>\n",
       "</table>\n",
       "</div>"
      ],
      "text/plain": [
       "   PassengerId  Survived  Pclass  Sex  Age  SibSp  Parch     Fare  Embarked\n",
       "0            1         0       3    0   22      1      0   7.2500         1\n",
       "1            2         1       1    1   38      1      0  71.2833         2\n",
       "2            3         1       3    1   26      0      0   7.9250         1\n",
       "3            4         1       1    1   35      1      0  53.1000         1\n",
       "4            5         0       3    0   35      0      0   8.0500         1"
      ]
     },
     "execution_count": 180,
     "metadata": {},
     "output_type": "execute_result"
    }
   ],
   "source": [
    "#Replacing females as 1 and males as 0\n",
    "\n",
    "data= data.replace(['female', 'male', 'S', 'C', 'Q'], \n",
    "                     [1, 0, 1, 2, 3]) \n",
    "data = data.drop(['Name', 'Ticket', 'Cabin'], axis=1, level=None, inplace=False, errors='raise')\n",
    "data=data.dropna()\n",
    "data.head()\n"
   ]
  },
  {
   "cell_type": "markdown",
   "metadata": {},
   "source": [
    "# Describing the data\n",
    "### The data.describe() basically gives us the summary statistic for all our numberical variable. I will ignore the columns  Pclass and Embarked because they are nominal variables. I will also ignore PassengerId because its an id and so its not a numerical value \n",
    "### However, for the rest of the variables, I can see the summary statistics are defined quite well. For example, the total number of ages mentioned are 714. There are some blank values in that column. The average age for those on Titanic is 30 years and the minimum is an infant (0.42). This function gives us a good idea of the data on the first glance. \n",
    "### The mean for the sex and the survived column tells us the rate of women and rate of survival respectively. "
   ]
  },
  {
   "cell_type": "code",
   "execution_count": 181,
   "metadata": {
    "collapsed": false
   },
   "outputs": [
    {
     "data": {
      "text/html": [
       "<div>\n",
       "<table border=\"1\" class=\"dataframe\">\n",
       "  <thead>\n",
       "    <tr style=\"text-align: right;\">\n",
       "      <th></th>\n",
       "      <th>Survived</th>\n",
       "      <th>Sex</th>\n",
       "      <th>Age</th>\n",
       "      <th>SibSp</th>\n",
       "      <th>Parch</th>\n",
       "      <th>Fare</th>\n",
       "    </tr>\n",
       "  </thead>\n",
       "  <tbody>\n",
       "    <tr>\n",
       "      <th>count</th>\n",
       "      <td>712.000000</td>\n",
       "      <td>712.000000</td>\n",
       "      <td>712.000000</td>\n",
       "      <td>712.000000</td>\n",
       "      <td>712.000000</td>\n",
       "      <td>712.000000</td>\n",
       "    </tr>\n",
       "    <tr>\n",
       "      <th>mean</th>\n",
       "      <td>0.404494</td>\n",
       "      <td>0.363764</td>\n",
       "      <td>29.642093</td>\n",
       "      <td>0.514045</td>\n",
       "      <td>0.432584</td>\n",
       "      <td>34.567251</td>\n",
       "    </tr>\n",
       "    <tr>\n",
       "      <th>std</th>\n",
       "      <td>0.491139</td>\n",
       "      <td>0.481420</td>\n",
       "      <td>14.492933</td>\n",
       "      <td>0.930692</td>\n",
       "      <td>0.854181</td>\n",
       "      <td>52.938648</td>\n",
       "    </tr>\n",
       "    <tr>\n",
       "      <th>min</th>\n",
       "      <td>0.000000</td>\n",
       "      <td>0.000000</td>\n",
       "      <td>0.420000</td>\n",
       "      <td>0.000000</td>\n",
       "      <td>0.000000</td>\n",
       "      <td>0.000000</td>\n",
       "    </tr>\n",
       "    <tr>\n",
       "      <th>25%</th>\n",
       "      <td>0.000000</td>\n",
       "      <td>0.000000</td>\n",
       "      <td>20.000000</td>\n",
       "      <td>0.000000</td>\n",
       "      <td>0.000000</td>\n",
       "      <td>8.050000</td>\n",
       "    </tr>\n",
       "  </tbody>\n",
       "</table>\n",
       "</div>"
      ],
      "text/plain": [
       "         Survived         Sex         Age       SibSp       Parch        Fare\n",
       "count  712.000000  712.000000  712.000000  712.000000  712.000000  712.000000\n",
       "mean     0.404494    0.363764   29.642093    0.514045    0.432584   34.567251\n",
       "std      0.491139    0.481420   14.492933    0.930692    0.854181   52.938648\n",
       "min      0.000000    0.000000    0.420000    0.000000    0.000000    0.000000\n",
       "25%      0.000000    0.000000   20.000000    0.000000    0.000000    8.050000"
      ]
     },
     "execution_count": 181,
     "metadata": {},
     "output_type": "execute_result"
    }
   ],
   "source": [
    "describe = data.describe()\n",
    "describe = describe.drop(['Pclass', 'PassengerId', 'Embarked'], axis=1, level=None, inplace=False, errors='raise')\n",
    "describe.head()"
   ]
  },
  {
   "cell_type": "markdown",
   "metadata": {},
   "source": [
    "# Exploration of Data\n",
    "## Proportion of Males vs Females. \n",
    "\n",
    "### I decide to plot a pie chart to visually analyze the male to female ratio on the ship. "
   ]
  },
  {
   "cell_type": "code",
   "execution_count": 182,
   "metadata": {
    "collapsed": false
   },
   "outputs": [
    {
     "name": "stdout",
     "output_type": "stream",
     "text": [
      "Populating the interactive namespace from numpy and matplotlib\n"
     ]
    },
    {
     "name": "stderr",
     "output_type": "stream",
     "text": [
      "WARNING: pylab import has clobbered these variables: ['f', 'colors']\n",
      "`%matplotlib` prevents importing * from pylab and numpy\n"
     ]
    },
    {
     "data": {
      "image/png": "[encoded data removed]",
      "text/plain": [
       "<matplotlib.figure.Figure at 0x10ed9e0d0>"
      ]
     },
     "metadata": {},
     "output_type": "display_data"
    },
    {
     "data": {
      "text/plain": [
       "<matplotlib.figure.Figure at 0x1139be450>"
      ]
     },
     "metadata": {},
     "output_type": "display_data"
    }
   ],
   "source": [
    "%pylab inline\n",
    "import matplotlib.pyplot as plt\n",
    "\n",
    "sex=data[['Sex']]\n",
    "\n",
    "sex_female=sex[(sex == 1)]\n",
    "sex_male=sex[(sex == 0)]\n",
    "\n",
    "labels = 'Female', 'Male'\n",
    "sizes = [sex_female.count(), sex_male.count()]\n",
    "colors = ['yellowgreen', 'gold']\n",
    " # only \"explode\" the 2nd slice (i.e. 'Hogs')\n",
    "\n",
    "plt.pie(sizes, labels=labels, colors=colors,\n",
    "        autopct='%1.1f%%', startangle=90)\n",
    "# Set aspect ratio to be equal so that pie is drawn as a circle.\n",
    "plt.axis('equal')\n",
    "plt.title('Pie-chart for Gender', bbox={'facecolor':'0.9', 'pad':0.1 })\n",
    "fig = plt.figure()\n"
   ]
  },
  {
   "cell_type": "markdown",
   "metadata": {},
   "source": [
    "## Passenger Class\n",
    "\n",
    "### I plot a pie chart for passenger class. This chart tells me that approximately 55% of the ship was occupied by passengers travelling third class, then first class with approximately 24% and then second class with approximately 21%"
   ]
  },
  {
   "cell_type": "code",
   "execution_count": 183,
   "metadata": {
    "collapsed": false
   },
   "outputs": [
    {
     "data": {
      "image/png": "[encoded data removed]",
      "text/plain": [
       "<matplotlib.figure.Figure at 0x1108b7090>"
      ]
     },
     "metadata": {},
     "output_type": "display_data"
    },
    {
     "data": {
      "text/plain": [
       "<matplotlib.figure.Figure at 0x10f280890>"
      ]
     },
     "metadata": {},
     "output_type": "display_data"
    }
   ],
   "source": [
    "pclass=data['Pclass']\n",
    "\n",
    "pclass_first=pclass[(pclass == 1)]\n",
    "pclass_second=pclass[(pclass == 2)]\n",
    "pclass_third=pclass[(pclass == 3)]\n",
    "\n",
    "labels = 'First', 'Second', 'Third'\n",
    "sizes = [pclass_first.count(), pclass_second.count(), pclass_third.count()]\n",
    "colors = ['yellowgreen', 'gold', 'lightskyblue']\n",
    "\n",
    "\n",
    "plt.pie(sizes, labels=labels, colors=colors,\n",
    "        autopct='%1.1f%%', startangle=90)\n",
    "# Set aspect ratio to be equal so that pie is drawn as a circle.\n",
    "plt.axis('equal')\n",
    "plt.title('Pie-chart for Passenger Class', bbox={'facecolor':'0.9', 'pad':0.1 })\n",
    "\n",
    "\n",
    "\n",
    "fig = plt.figure()\n"
   ]
  },
  {
   "cell_type": "markdown",
   "metadata": {},
   "source": [
    "### I do the same for embarked. I found this variable interesting because one port could be a wealthier area compared to another. For example, majority of the people from S could be travelling first class while everyone from Q could be travelling third class. This is worth thinking about because later we will see how class could be considered to be a predictor of survival and if class is correlated with embarked, then embarked could also be considered to be a predictor of survival"
   ]
  },
  {
   "cell_type": "code",
   "execution_count": 184,
   "metadata": {
    "collapsed": false
   },
   "outputs": [
    {
     "data": {
      "image/png": "[encoded data removed]",
      "text/plain": [
       "<matplotlib.figure.Figure at 0x1029c1090>"
      ]
     },
     "metadata": {},
     "output_type": "display_data"
    },
    {
     "data": {
      "text/plain": [
       "<matplotlib.figure.Figure at 0x1029c1310>"
      ]
     },
     "metadata": {},
     "output_type": "display_data"
    }
   ],
   "source": [
    "embarked=data['Embarked']\n",
    "\n",
    "embarked_first=embarked[(embarked == 1)]\n",
    "embarked_second=embarked[(embarked == 2)]\n",
    "embarked_third=embarked[(embarked == 3)]\n",
    "\n",
    "labels = 'Southampton', 'Cherbourg' , 'Queenstown'\n",
    "sizes = [embarked_first.count(), embarked_second.count(), embarked_third.count()]\n",
    "colors = ['yellowgreen', 'gold', 'lightskyblue']\n",
    "\n",
    "\n",
    "plt.pie(sizes, labels=labels, colors=colors,\n",
    "        autopct='%1.1f%%', startangle=90)\n",
    "# Set aspect ratio to be equal so that pie is drawn as a circle.\n",
    "plt.axis('equal')\n",
    "plt.title('Pie-chart for Embarked',loc='Left', bbox={'facecolor':'0.9', 'pad':0.1 })\n",
    "\n",
    "fig=plt.figure()\n"
   ]
  },
  {
   "cell_type": "markdown",
   "metadata": {},
   "source": [
    "## Correlation between class and embarked.\n",
    "\n",
    "### Just checking if my earlier hypothesis is true.\n",
    "### From what it looks like, there is very low correlation between class and embarkment. \n",
    "### Note: I was doubtful whether I can use pearson's r to find the correlation coefficient for two nominal variables but after verifying, I realized you can use the phi coefficient which is the same as a Pearson's r for nominal variables. "
   ]
  },
  {
   "cell_type": "code",
   "execution_count": 185,
   "metadata": {
    "collapsed": false
   },
   "outputs": [
    {
     "name": "stdout",
     "output_type": "stream",
     "text": [
      "The correlation and the p-value for Pclass and Embarked is (-0.10850162878875162, 0.0037476188967358356)\n"
     ]
    }
   ],
   "source": [
    "print \"The correlation and the p-value for Pclass and Embarked is \" + str(sp.stats.pearsonr(data.Pclass, data.Embarked))"
   ]
  },
  {
   "cell_type": "markdown",
   "metadata": {},
   "source": [
    "## Plotting the distribution of age \n",
    "### We can see that the distribution of age is approximating that of a normal distribution. "
   ]
  },
  {
   "cell_type": "code",
   "execution_count": 186,
   "metadata": {
    "collapsed": false
   },
   "outputs": [
    {
     "name": "stdout",
     "output_type": "stream",
     "text": [
      "Populating the interactive namespace from numpy and matplotlib\n"
     ]
    },
    {
     "name": "stderr",
     "output_type": "stream",
     "text": [
      "WARNING: pylab import has clobbered these variables: ['colors']\n",
      "`%matplotlib` prevents importing * from pylab and numpy\n"
     ]
    },
    {
     "data": {
      "image/png": "[encoded data removed]",
      "text/plain": [
       "<matplotlib.figure.Figure at 0x1029df6d0>"
      ]
     },
     "metadata": {},
     "output_type": "display_data"
    },
    {
     "data": {
      "text/plain": [
       "<matplotlib.figure.Figure at 0x1108b7090>"
      ]
     },
     "metadata": {},
     "output_type": "display_data"
    }
   ],
   "source": [
    "%pylab inline\n",
    "import matplotlib.pyplot as plt\n",
    "#Plotting Age as a histogram\n",
    "data.hist('Age')\n",
    "plt.title('Histogram of Age', bbox={'facecolor':'0.9', 'pad':1.5 })\n",
    "plt.suptitle(\"\")\n",
    "\n",
    "ylabel('Age')\n",
    "fig=plt.figure()"
   ]
  },
  {
   "cell_type": "markdown",
   "metadata": {},
   "source": [
    "### I want to see what the distribution of age is when it is grouped by sex\n",
    "### Looks like the median age for women is lower than that of men."
   ]
  },
  {
   "cell_type": "code",
   "execution_count": 187,
   "metadata": {
    "collapsed": false,
    "scrolled": false
   },
   "outputs": [
    {
     "data": {
      "image/png": "[encoded data removed]",
      "text/plain": [
       "<matplotlib.figure.Figure at 0x10f132150>"
      ]
     },
     "metadata": {},
     "output_type": "display_data"
    },
    {
     "data": {
      "text/plain": [
       "<matplotlib.figure.Figure at 0x10f1283d0>"
      ]
     },
     "metadata": {},
     "output_type": "display_data"
    }
   ],
   "source": [
    "#Boxplot for age \n",
    "data.boxplot('Age', 'Sex')\n",
    "plt.title('Boxplot grouped by Sex', bbox={'facecolor':'0.9', 'pad':1.5 })\n",
    "plt.suptitle(\"\")\n",
    "xlabel('Sex')\n",
    "ylabel('Age')\n",
    "fig=plt.figure()"
   ]
  },
  {
   "cell_type": "markdown",
   "metadata": {},
   "source": [
    "### I now check the distribution of fare. It looks like it is skewed towards the left which could mean that most tickets were bough around 20-30 pounds (I'm not sure if that's the currency). "
   ]
  },
  {
   "cell_type": "code",
   "execution_count": 188,
   "metadata": {
    "collapsed": false
   },
   "outputs": [
    {
     "data": {
      "image/png": "[encoded data removed]",
      "text/plain": [
       "<matplotlib.figure.Figure at 0x103b5f750>"
      ]
     },
     "metadata": {},
     "output_type": "display_data"
    },
    {
     "data": {
      "text/plain": [
       "<matplotlib.figure.Figure at 0x111ae9f50>"
      ]
     },
     "metadata": {},
     "output_type": "display_data"
    }
   ],
   "source": [
    "data.hist('Fare')\n",
    "plt.title('Histogram of Fare', bbox={'facecolor':'0.9', 'pad':1.5 })\n",
    "plt.suptitle(\"\")\n",
    "ylabel('Fare')\n",
    "fig=plt.figure()"
   ]
  },
  {
   "cell_type": "markdown",
   "metadata": {},
   "source": [
    "### Then I check the distribution for fare grouped by sex"
   ]
  },
  {
   "cell_type": "code",
   "execution_count": 189,
   "metadata": {
    "collapsed": false
   },
   "outputs": [
    {
     "data": {
      "image/png": "[encoded data removed]",
      "text/plain": [
       "<matplotlib.figure.Figure at 0x103b0eed0>"
      ]
     },
     "metadata": {},
     "output_type": "display_data"
    },
    {
     "data": {
      "text/plain": [
       "<matplotlib.figure.Figure at 0x1029d9450>"
      ]
     },
     "metadata": {},
     "output_type": "display_data"
    }
   ],
   "source": [
    "data.boxplot('Fare', 'Sex')\n",
    "plt.ylim(0, 300)\n",
    "plt.title('Boxplot grouped by Sex', bbox={'facecolor':'0.9', 'pad':1.5 })\n",
    "plt.suptitle(\"\")\n",
    "xlabel('Sex')\n",
    "ylabel('Fare')\n",
    "fig=plt.figure()\n",
    "plt.show()"
   ]
  },
  {
   "cell_type": "markdown",
   "metadata": {},
   "source": [
    "# Correlation\n",
    "### I want to learn how other variables react with the variable Survived.\n",
    "### As we can see below class is negatively correlated with survived. This makes sense. My hupothesis is that those who were in the first class had a higher chance of surviving than those in the 2nd and third class. I will look deeper into the variable by running a chi square test later on.\n",
    "### Fare is also correlated with survival. Again this makes sense because those who are in first class would have paid a higher fare. \n",
    "### Sex is also correlated. I think females have a higher chance of surviving than men do because in a case of emergency, women and children are given first priority. We will look at this variable further by visualizing if women had a higher chance of surviving than men did. \n",
    "### Let's take a look at all the p-values. On the right we have the two-tailed p-value. Only Age, Parch and Embarked are significant variables at the 0.05 level. This is a major flaw in the analysis because while pclass and suvived are negatively correlated, the correlation doesn't seem to be significant at the 0.05 level. This means that we cannot reject the null hypothesis that people travelling by different classes have the same rate of survival. "
   ]
  },
  {
   "cell_type": "code",
   "execution_count": 190,
   "metadata": {
    "collapsed": false,
    "scrolled": true
   },
   "outputs": [
    {
     "name": "stdout",
     "output_type": "stream",
     "text": [
      "The correlation and the p-value for Pclass and Survived is (-0.35646158844523823, 9.3036197426767614e-23)\n",
      "The correlation and the p-value for Age and Survived is (-0.082445868043413945, 0.027820316250842768)\n",
      "The correlation and the p-value for SibSp and Survived is (-0.015523023631749389, 0.6792380720539426)\n",
      "The correlation and the p-value for Parch and Survived is (0.095265294286852972, 0.010980612364523213)\n",
      "The correlation and the p-value for Fare and Survived is (0.2660996004765806, 5.2567957806816485e-13)\n",
      "The correlation and the p-value for Sex and Survived is (0.53676162334850308, 2.2428516419827233e-54)\n",
      "The correlation and the p-value for Embarked and Survived is (0.1085168225541973, 0.003742741768124733)\n"
     ]
    }
   ],
   "source": [
    "print \"The correlation and the p-value for Pclass and Survived is \" + str(sp.stats.pearsonr(data.Pclass, data.Survived))\n",
    "print \"The correlation and the p-value for Age and Survived is \" + str(sp.stats.pearsonr(data.Age,data.Survived))\n",
    "print \"The correlation and the p-value for SibSp and Survived is \" + str(sp.stats.pearsonr(data.SibSp,data.Survived))\n",
    "print \"The correlation and the p-value for Parch and Survived is \" + str(sp.stats.pearsonr(data.Parch,data.Survived))\n",
    "print \"The correlation and the p-value for Fare and Survived is \" + str(sp.stats.pearsonr(data.Fare,data.Survived))\n",
    "print \"The correlation and the p-value for Sex and Survived is \" + str(sp.stats.pearsonr(data.Sex, data.Survived))\n",
    "print \"The correlation and the p-value for Embarked and Survived is \" + str(sp.stats.pearsonr(data.Embarked, data.Survived))"
   ]
  },
  {
   "cell_type": "markdown",
   "metadata": {},
   "source": [
    "# Correlation Matrix\n",
    "### In order to better understand the correlations between all the variables, I decided to plot a correlation matrix. This helps us visualize the data better. We can see that fare and Pclass are negatively correlated. What's surprising is that age and Pclass are negatively correlated. This has a convoluted explanation according to me. The older you are, the more money you have and the better class you have. I think the omitted variable here is income. "
   ]
  },
  {
   "cell_type": "code",
   "execution_count": 191,
   "metadata": {
    "collapsed": false
   },
   "outputs": [
    {
     "data": {
      "text/plain": [
       "(array([ 0.5,  1.5,  2.5,  3.5,  4.5,  5.5,  6.5,  7.5,  8.5]),\n",
       " <a list of 9 Text yticklabel objects>)"
      ]
     },
     "execution_count": 191,
     "metadata": {},
     "output_type": "execute_result"
    },
    {
     "data": {
      "image/png": "[encoded data removed]",
      "text/plain": [
       "<matplotlib.figure.Figure at 0x1119112d0>"
      ]
     },
     "metadata": {},
     "output_type": "display_data"
    }
   ],
   "source": [
    "from string import letters\n",
    "import numpy as np\n",
    "import pandas as pd\n",
    "import seaborn as sns\n",
    "import matplotlib.pyplot as plt\n",
    "\n",
    "sns.set(style=\"white\")\n",
    "\n",
    "# Compute the correlation matrix\n",
    "corr = data.corr()\n",
    "\n",
    "# Generate a mask for the upper triangle\n",
    "mask = np.zeros_like(corr, dtype=np.bool)\n",
    "mask[np.triu_indices_from(mask)] = True\n",
    "\n",
    "# Set up the matplotlib figure\n",
    "f, ax = plt.subplots(figsize=(11, 9))\n",
    "\n",
    "# Generate a custom diverging colormap\n",
    "cmap = sns.diverging_palette(250, 15, center='dark', as_cmap=True)\n",
    "\n",
    "# Draw the heatmap with the mask and correct aspect ratio\n",
    "sns.heatmap(corr, mask=mask, cmap=cmap, vmax=.3,\n",
    "            square=True,\n",
    "            linewidths=.5, cbar_kws={\"shrink\": .5}, ax=ax)\n",
    "\n",
    "plt.xticks(rotation=45)\n",
    "plt.yticks(rotation=45)"
   ]
  },
  {
   "cell_type": "markdown",
   "metadata": {
    "collapsed": true
   },
   "source": [
    "### Statistical Test: Chi-Squared Test\n",
    "### During this exploratory phase, the scene from Titanic-the movie where Kate Winslet's fiancee is bribing the security in order to get on the life boat came to mind. This made me think if it was plausible to believe that those who were travelling first class were allowed to get on the life boat first. I decided to explore the three variables gender and which class they were residing in. So I decided to run a Chi-squared test to see if they supported my hypothesis or not. Let’s look at my Expected and Observed values. \n",
    "\n",
    "### What is my null hypothesis?\n",
    "### Ho: My null hypothesis is that everyone has an equal chance of surviving regardless of their gender or which class they are travelling. \n",
    "### In other words, my null hypothesis is the expected values table mentioned below:"
   ]
  },
  {
   "cell_type": "code",
   "execution_count": 192,
   "metadata": {
    "collapsed": false
   },
   "outputs": [
    {
     "data": {
      "text/html": [
       "<div>\n",
       "<table border=\"1\" class=\"dataframe\">\n",
       "  <thead>\n",
       "    <tr style=\"text-align: right;\">\n",
       "      <th></th>\n",
       "      <th>1st_female</th>\n",
       "      <th>1st_male</th>\n",
       "      <th>2nd_female</th>\n",
       "      <th>2nd_male</th>\n",
       "      <th>Total</th>\n",
       "    </tr>\n",
       "  </thead>\n",
       "  <tbody>\n",
       "    <tr>\n",
       "      <th>Yes</th>\n",
       "      <td>36.080808</td>\n",
       "      <td>46.828283</td>\n",
       "      <td>84.444444</td>\n",
       "      <td>174.646465</td>\n",
       "      <td>342</td>\n",
       "    </tr>\n",
       "    <tr>\n",
       "      <th>No</th>\n",
       "      <td>57.919192</td>\n",
       "      <td>75.171717</td>\n",
       "      <td>135.555556</td>\n",
       "      <td>280.353535</td>\n",
       "      <td>549</td>\n",
       "    </tr>\n",
       "    <tr>\n",
       "      <th>Total</th>\n",
       "      <td>94.000000</td>\n",
       "      <td>122.000000</td>\n",
       "      <td>220.000000</td>\n",
       "      <td>455.000000</td>\n",
       "      <td>891</td>\n",
       "    </tr>\n",
       "  </tbody>\n",
       "</table>\n",
       "</div>"
      ],
      "text/plain": [
       "       1st_female    1st_male  2nd_female    2nd_male  Total\n",
       "Yes     36.080808   46.828283   84.444444  174.646465    342\n",
       "No      57.919192   75.171717  135.555556  280.353535    549\n",
       "Total   94.000000  122.000000  220.000000  455.000000    891"
      ]
     },
     "execution_count": 192,
     "metadata": {},
     "output_type": "execute_result"
    }
   ],
   "source": [
    "expected_values = {'1st_female' : pd.Series([36.08080808, 57.91919192, 94], index=['Yes', 'No', 'Total']),\n",
    "   '1st_male' : pd.Series([46.82828283, 75.17171717, 122], index=['Yes', 'No', 'Total']),\n",
    "    '2nd_female' : pd.Series([84.44444444, 135.5555556, 220], index=['Yes', 'No', 'Total']),\n",
    "    '2nd_male' : pd.Series([174.6464646, 280.3535354, 455], index=['Yes', 'No', 'Total']),\n",
    "    'Total' : pd.Series([342, 549, 891], index=['Yes', 'No', 'Total'])}\n",
    "\n",
    "expected_values = pd.DataFrame(expected_values)\n",
    "expected_values"
   ]
  },
  {
   "cell_type": "markdown",
   "metadata": {},
   "source": [
    "### The assumptions of the chi-square test:\n",
    "\n",
    "\n",
    "### 1) The data in the cells should be frequencies, or counts of cases rather than percentages or some other transformation of the data.\n",
    "### 2) The levels (or categories) of the variables are mutually exclusive. That is, a particular subject fits into one and only one level of each of the variables.\n",
    "### 3) Each subject may contribute data to one and only one cell in the χ2. If, for example, the same subjects are tested over time such that the comparisons are of the same subjects at Time 1, Time 2, Time 3, etc., then χ2 may not be used.\n",
    "### 4) The study groups must be independent. This means that a different test must be used if the two groups are related. For example, a different test must be used if the researcher’s data consists of paired samples, such as in studies in which a parent is paired with his or her child.\n",
    "### 5) There are 2 variables, and both are measured as categories, usually at the nominal level. However, data may be ordinal data. Interval or ratio data that have been collapsed into ordinal categories may also be used. While Chi-square has no rule about limiting the number of cells (by limiting the number of categories for each variable), a very large number of cells (over 20) can make it difficult to meet assumption #6 below, and to interpret the meaning of the results.\n",
    "### 6) The value of the cell expecteds should be 5 or more in at least 80% of the cells, and no cell should have an expected of less than one (3). This assumption is most likely to be met if the sample size equals at least the number of cells multiplied by 5. Essentially, this assumption specifies the number of cases (sample size) needed to use the χ2 for any number of cells in that χ2. "
   ]
  },
  {
   "cell_type": "markdown",
   "metadata": {},
   "source": [
    "### Then I calculate the observed values."
   ]
  },
  {
   "cell_type": "code",
   "execution_count": 193,
   "metadata": {
    "collapsed": false
   },
   "outputs": [
    {
     "data": {
      "text/html": [
       "<div>\n",
       "<table border=\"1\" class=\"dataframe\">\n",
       "  <thead>\n",
       "    <tr style=\"text-align: right;\">\n",
       "      <th></th>\n",
       "      <th>1st_female</th>\n",
       "      <th>1st_male</th>\n",
       "      <th>2nd_female</th>\n",
       "      <th>2nd_male</th>\n",
       "      <th>Total</th>\n",
       "    </tr>\n",
       "  </thead>\n",
       "  <tbody>\n",
       "    <tr>\n",
       "      <th>Yes</th>\n",
       "      <td>91</td>\n",
       "      <td>45</td>\n",
       "      <td>142</td>\n",
       "      <td>64</td>\n",
       "      <td>342</td>\n",
       "    </tr>\n",
       "    <tr>\n",
       "      <th>No</th>\n",
       "      <td>3</td>\n",
       "      <td>77</td>\n",
       "      <td>78</td>\n",
       "      <td>391</td>\n",
       "      <td>549</td>\n",
       "    </tr>\n",
       "    <tr>\n",
       "      <th>Total</th>\n",
       "      <td>94</td>\n",
       "      <td>122</td>\n",
       "      <td>220</td>\n",
       "      <td>455</td>\n",
       "      <td>891</td>\n",
       "    </tr>\n",
       "  </tbody>\n",
       "</table>\n",
       "</div>"
      ],
      "text/plain": [
       "       1st_female  1st_male  2nd_female  2nd_male  Total\n",
       "Yes            91        45         142        64    342\n",
       "No              3        77          78       391    549\n",
       "Total          94       122         220       455    891"
      ]
     },
     "execution_count": 193,
     "metadata": {},
     "output_type": "execute_result"
    }
   ],
   "source": [
    "observed_values = {'1st_female' : pd.Series([91, 3, 94], index=['Yes', 'No', 'Total']),\n",
    "   '1st_male' : pd.Series([45, 77, 122], index=['Yes', 'No', 'Total']),\n",
    "    '2nd_female' : pd.Series([142, 78, 220], index=['Yes', 'No', 'Total']),\n",
    "    '2nd_male' : pd.Series([64, 391, 455], index=['Yes', 'No', 'Total']),\n",
    "    'Total' : pd.Series([342, 549, 891], index=['Yes', 'No', 'Total'])}\n",
    "\n",
    "observed_values = pd.DataFrame(observed_values)\n",
    "observed_values"
   ]
  },
  {
   "cell_type": "markdown",
   "metadata": {},
   "source": [
    "### I calculated the chi-squared value: \n",
    "### The value is 313.218148 at 3 degrees of freedom. \n",
    "### I then calculated the p-value at alpha=0.05: p-value < 0.0001\n",
    "\n",
    "### According to this result we can conclude that our results are statistically significant and we can reject the null hypothesis that everyone has an equal chance of surviving regardless of their sex and the class they are travelling by.\n"
   ]
  },
  {
   "cell_type": "markdown",
   "metadata": {},
   "source": [
    "## Exploring Survival By Sex\n",
    "### I want to explore the survival rate by sex further. If you look at the pie charts below, you realize that majority of those who survived were female even though the ship comprised of a lesser proportion of females. Through the pie charts, I can tentatively conclude that women had a better chance of surviving the ship wreck. "
   ]
  },
  {
   "cell_type": "code",
   "execution_count": 194,
   "metadata": {
    "collapsed": false
   },
   "outputs": [
    {
     "data": {
      "image/png": "[encoded data removed]",
      "text/plain": [
       "<matplotlib.figure.Figure at 0x1154cce90>"
      ]
     },
     "metadata": {},
     "output_type": "display_data"
    },
    {
     "data": {
      "image/png": "[encoded data removed]",
      "text/plain": [
       "<matplotlib.figure.Figure at 0x115666fd0>"
      ]
     },
     "metadata": {},
     "output_type": "display_data"
    },
    {
     "data": {
      "image/png": "[encoded data removed]",
      "text/plain": [
       "<matplotlib.figure.Figure at 0x1156b5890>"
      ]
     },
     "metadata": {},
     "output_type": "display_data"
    },
    {
     "data": {
      "text/plain": [
       "<matplotlib.figure.Figure at 0x111d66410>"
      ]
     },
     "metadata": {},
     "output_type": "display_data"
    }
   ],
   "source": [
    "#Total\n",
    "sex=data[['Sex']]\n",
    "\n",
    "sex_female=sex[(sex == 1)]\n",
    "sex_male=sex[(sex == 0)]\n",
    "\n",
    "labels = 'Female', 'Male'\n",
    "sizes = [sex_female.count(), sex_male.count()]\n",
    "colors = ['yellowgreen', 'gold']\n",
    "\n",
    "\n",
    "plt.pie(sizes, labels=labels, colors=colors,\n",
    "        autopct='%1.1f%%', startangle=90)\n",
    "title('Total', bbox={'facecolor':'0.8', 'pad':0.1 })\n",
    "# Set aspect ratio to be equal so that pie is drawn as a circle.\n",
    "plt.axis('equal')\n",
    "\n",
    "fig = plt.figure()\n",
    "\n",
    "\n",
    "\n",
    "#Survived\n",
    "sex_survived=data[['Sex', 'Survived']]\n",
    "sex_survived=sex_survived[(sex_survived.Survived == 1)]\n",
    "sex_survived\n",
    "\n",
    "sex_survived_female=sex_survived.Sex[(sex_survived.Sex == 1)]\n",
    "sex_survived_male=sex_survived.Sex[(sex_survived.Sex == 0)]\n",
    "\n",
    "labels = 'Female', 'Male'\n",
    "sizes = [sex_survived_female.count(), sex_survived_male.count()]\n",
    "colors = ['yellowgreen', 'gold']\n",
    "\n",
    "\n",
    "plt.pie(sizes, labels=labels, colors=colors,\n",
    "        autopct='%1.1f%%', startangle=90)\n",
    "title('Survived', bbox={'facecolor':'0.8', 'pad':0.1 })\n",
    "plt.axis('equal')\n",
    "fig = plt.figure()\n",
    "\n",
    "\n",
    "\n",
    "#Not survived\n",
    "sex_notsurvived=data[['Sex', 'Survived']]\n",
    "sex_notsurvived=sex_notsurvived[(sex_notsurvived.Survived == 0)]\n",
    "\n",
    "\n",
    "sex_survived_female=sex_notsurvived.Sex[(sex_notsurvived.Sex == 1)]\n",
    "sex_survived_male=sex_notsurvived.Sex[(sex_notsurvived.Sex == 0)]\n",
    "\n",
    "labels = 'Female', 'Male'\n",
    "sizes = [sex_survived_female.count(), sex_survived_male.count()]\n",
    "colors = ['yellowgreen', 'gold']\n",
    "\n",
    "\n",
    "plt.pie(sizes, labels=labels, colors=colors,\n",
    "        autopct='%1.1f%%', startangle=90)\n",
    "title('Not Survived', bbox={'facecolor':'0.8', 'pad':0.1 })\n",
    "# Set aspect ratio to be equal so that pie is drawn as a circle.\n",
    "plt.axis('equal')\n",
    "\n",
    "fig = plt.figure()\n",
    "\n",
    "\n",
    "plt.show()\n",
    "\n",
    "\n"
   ]
  },
  {
   "cell_type": "markdown",
   "metadata": {
    "collapsed": true
   },
   "source": [
    "# Drawbacks\n",
    "### The drawbacks of the analysis is that it doesn't give us a definite answer about anything. I can only make tentative conclusions based on the preliminary data analysis that I have carried out. \n",
    "### Missing data points: Like I have pointed out earlier, there are quite a few missing data points in a few of the columns in the dataset. This could be problematic when I am plotting single columns because it could give us the wrong proportion. For eg, what if I plot the proportion of females vs males when it comes to their survival. While the proportion is calculated correctly based on the data that I am provided with, it represents a flawed visual because there are more men and women in the dataset but their gender is not recorded. \n",
    "### A solution the sex column is to look at the names of the passengers and input the gender manually. This could take time if the dataset is very big or there are too many missing values. \n"
   ]
  },
  {
   "cell_type": "markdown",
   "metadata": {},
   "source": [
    "# Conclusion\n",
    "\n",
    "### Through this analysis I can tentatively conclude that Pclass, Sex and Age can have the potential to determine Survival but only further statistical modelling can give us a more concrete result. "
   ]
  }
 ],
 "metadata": {
  "kernelspec": {
   "display_name": "Python 2",
   "language": "python",
   "name": "python2"
  },
  "language_info": {
   "codemirror_mode": {
    "name": "ipython",
    "version": 2
   },
   "file_extension": ".py",
   "mimetype": "text/x-python",
   "name": "python",
   "nbconvert_exporter": "python",
   "pygments_lexer": "ipython2",
   "version": "2.7.10"
  }
 },
 "nbformat": 4,
 "nbformat_minor": 0
}
