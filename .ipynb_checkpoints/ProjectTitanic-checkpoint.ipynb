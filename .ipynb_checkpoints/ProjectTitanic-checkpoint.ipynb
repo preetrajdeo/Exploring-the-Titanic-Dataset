{
 "cells": [
  {
   "cell_type": "code",
   "execution_count": 8,
   "metadata": {
    "collapsed": false
   },
   "outputs": [
    {
     "data": {
      "text/html": [
       "<div>\n",
       "<table border=\"1\" class=\"dataframe\">\n",
       "  <thead>\n",
       "    <tr style=\"text-align: right;\">\n",
       "      <th></th>\n",
       "      <th>PassengerId</th>\n",
       "      <th>Survived</th>\n",
       "      <th>Pclass</th>\n",
       "      <th>Sex</th>\n",
       "      <th>Age</th>\n",
       "      <th>SibSp</th>\n",
       "      <th>Parch</th>\n",
       "      <th>Fare</th>\n",
       "      <th>Embarked</th>\n",
       "    </tr>\n",
       "  </thead>\n",
       "  <tbody>\n",
       "    <tr>\n",
       "      <th>0</th>\n",
       "      <td>1</td>\n",
       "      <td>0</td>\n",
       "      <td>3</td>\n",
       "      <td>0</td>\n",
       "      <td>22</td>\n",
       "      <td>1</td>\n",
       "      <td>0</td>\n",
       "      <td>7.2500</td>\n",
       "      <td>0</td>\n",
       "    </tr>\n",
       "    <tr>\n",
       "      <th>1</th>\n",
       "      <td>2</td>\n",
       "      <td>1</td>\n",
       "      <td>1</td>\n",
       "      <td>1</td>\n",
       "      <td>38</td>\n",
       "      <td>1</td>\n",
       "      <td>0</td>\n",
       "      <td>71.2833</td>\n",
       "      <td>1</td>\n",
       "    </tr>\n",
       "    <tr>\n",
       "      <th>2</th>\n",
       "      <td>3</td>\n",
       "      <td>1</td>\n",
       "      <td>3</td>\n",
       "      <td>1</td>\n",
       "      <td>26</td>\n",
       "      <td>0</td>\n",
       "      <td>0</td>\n",
       "      <td>7.9250</td>\n",
       "      <td>0</td>\n",
       "    </tr>\n",
       "    <tr>\n",
       "      <th>3</th>\n",
       "      <td>4</td>\n",
       "      <td>1</td>\n",
       "      <td>1</td>\n",
       "      <td>1</td>\n",
       "      <td>35</td>\n",
       "      <td>1</td>\n",
       "      <td>0</td>\n",
       "      <td>53.1000</td>\n",
       "      <td>0</td>\n",
       "    </tr>\n",
       "    <tr>\n",
       "      <th>4</th>\n",
       "      <td>5</td>\n",
       "      <td>0</td>\n",
       "      <td>3</td>\n",
       "      <td>0</td>\n",
       "      <td>35</td>\n",
       "      <td>0</td>\n",
       "      <td>0</td>\n",
       "      <td>8.0500</td>\n",
       "      <td>0</td>\n",
       "    </tr>\n",
       "  </tbody>\n",
       "</table>\n",
       "</div>"
      ],
      "text/plain": [
       "   PassengerId  Survived  Pclass  Sex  Age  SibSp  Parch     Fare Embarked\n",
       "0            1         0       3    0   22      1      0   7.2500        0\n",
       "1            2         1       1    1   38      1      0  71.2833        1\n",
       "2            3         1       3    1   26      0      0   7.9250        0\n",
       "3            4         1       1    1   35      1      0  53.1000        0\n",
       "4            5         0       3    0   35      0      0   8.0500        0"
      ]
     },
     "execution_count": 8,
     "metadata": {},
     "output_type": "execute_result"
    }
   ],
   "source": [
    "import numpy as np\n",
    "import pandas as pd\n",
    "\n",
    "\n",
    "data=pd.read_csv('titanic_data.csv', sep=',')\n",
    "data.head()\n",
    "#Replacing females as 1 and males as 0\n",
    "data=data.replace({'female': 1}, regex=True)\n",
    "data=data.replace({'male': 0}, regex=True)\n",
    "data.head()\n",
    "#replacing all embarked S with 0 and C with 1\n",
    "data=data.replace({'S':0}, regex=True)\n",
    "data=data.replace({'C':1}, regex=True)\n",
    "data.head()\n"
   ]
  },
  {
   "cell_type": "code",
   "execution_count": 11,
   "metadata": {
    "collapsed": false
   },
   "outputs": [
    {
     "name": "stdout",
     "output_type": "stream",
     "text": [
      "   Sex  Survived\n",
      "0    0         0\n",
      "1    1         1\n",
      "2    1         1\n",
      "3    1         1\n",
      "4    0         0\n"
     ]
    }
   ],
   "source": [
    "#To find the relation between sex and age creating a dataset called \n",
    "#sex_and_survived\n",
    "\n",
    "sex_and_survived=data[['Sex', 'Survived']]\n",
    "print sex_and_survived.head()"
   ]
  },
  {
   "cell_type": "code",
   "execution_count": 12,
   "metadata": {
    "collapsed": false
   },
   "outputs": [
    {
     "name": "stdout",
     "output_type": "stream",
     "text": [
      "               Sex  Survived\n",
      "Sex       1.000000  0.543351\n",
      "Survived  0.543351  1.000000\n"
     ]
    }
   ],
   "source": [
    "#Finding the correlation between sex and survived. We can see that it is pretty positively \n",
    "#correlated.\n",
    "correlation_sex_survived=sex_and_survived.corr('pearson')\n",
    "print correlation_sex_survived"
   ]
  },
  {
   "cell_type": "code",
   "execution_count": 14,
   "metadata": {
    "collapsed": false
   },
   "outputs": [
    {
     "name": "stdout",
     "output_type": "stream",
     "text": [
      "            Pclass  Survived\n",
      "Pclass    1.000000 -0.338481\n",
      "Survived -0.338481  1.000000\n",
      "               Age  Survived\n",
      "Age       1.000000 -0.077221\n",
      "Survived -0.077221  1.000000\n",
      "             SibSp  Survived\n",
      "SibSp     1.000000 -0.035322\n",
      "Survived -0.035322  1.000000\n",
      "             Parch  Survived\n",
      "Parch     1.000000  0.081629\n",
      "Survived  0.081629  1.000000\n",
      "              Fare  Survived\n",
      "Fare      1.000000  0.257307\n",
      "Survived  0.257307  1.000000\n",
      "          Survived\n",
      "Survived         1\n"
     ]
    }
   ],
   "source": [
    "#Now let's try this with all the variables and survived.\n",
    "pclass_and_survived=data[['Pclass', 'Survived']]\n",
    "correlation_pclass_survived=pclass_and_survived.corr('pearson')\n",
    "print correlation_pclass_survived\n",
    "\n",
    "age_and_survived=data[['Age', 'Survived']]\n",
    "correlation_age_survived=age_and_survived.corr('pearson')\n",
    "print correlation_age_survived\n",
    "\n",
    "sibsp_and_survived=data[['SibSp', 'Survived']]\n",
    "correlation_sibsp_survived=sibsp_and_survived.corr('pearson')\n",
    "print correlation_sibsp_survived\n",
    "\n",
    "parch_and_survived=data[['Parch', 'Survived']]\n",
    "correlation_parch_survived=parch_and_survived.corr('pearson')\n",
    "print correlation_parch_survived\n",
    "\n",
    "fare_and_survived=data[['Fare', 'Survived']]\n",
    "correlation_fare_survived=fare_and_survived.corr('pearson')\n",
    "print correlation_fare_survived\n",
    "\n",
    "embarked_and_survived=data[['Embarked', 'Survived']]\n",
    "correlation_embarked_survived=embarked_and_survived.corr('pearson')\n",
    "print correlation_embarked_survived\n"
   ]
  },
  {
   "cell_type": "code",
   "execution_count": null,
   "metadata": {
    "collapsed": true
   },
   "outputs": [],
   "source": []
  }
 ],
 "metadata": {
  "kernelspec": {
   "display_name": "Python 2",
   "language": "python",
   "name": "python2"
  },
  "language_info": {
   "codemirror_mode": {
    "name": "ipython",
    "version": 2
   },
   "file_extension": ".py",
   "mimetype": "text/x-python",
   "name": "python",
   "nbconvert_exporter": "python",
   "pygments_lexer": "ipython2",
   "version": "2.7.10"
  }
 },
 "nbformat": 4,
 "nbformat_minor": 0
}
